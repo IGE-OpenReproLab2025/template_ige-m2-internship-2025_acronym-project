{
 "cells": [
  {
   "cell_type": "markdown",
   "id": "9236e244-0490-4d06-a2a9-845893fb5017",
   "metadata": {},
   "source": [
    "# notebook_that_does_something_super_cool.ipynb"
   ]
  },
  {
   "cell_type": "code",
   "execution_count": null,
   "id": "1085052f-5052-45bf-8050-273aad8e6b80",
   "metadata": {},
   "outputs": [],
   "source": []
  }
 ],
 "metadata": {
  "kernelspec": {
   "display_name": "Python 3 (ipykernel)",
   "language": "python",
   "name": "python3"
  },
  "language_info": {
   "codemirror_mode": {
    "name": "ipython",
    "version": 3
   },
   "file_extension": ".py",
   "mimetype": "text/x-python",
   "name": "python",
   "nbconvert_exporter": "python",
   "pygments_lexer": "ipython3",
   "version": "3.12.2"
  }
 },
 "nbformat": 4,
 "nbformat_minor": 5
}
